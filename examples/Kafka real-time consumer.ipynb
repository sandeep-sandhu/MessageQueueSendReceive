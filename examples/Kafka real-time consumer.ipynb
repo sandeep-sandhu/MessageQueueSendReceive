{
 "cells": [
  {
   "cell_type": "markdown",
   "id": "883d1cbc-0fd8-4064-a832-d150f5317d53",
   "metadata": {},
   "source": [
    "# Kafka Real-time Consumer\n",
    "\n",
    "Simulation of real-time data consumer from a Kafka message queue.\n",
    "\n",
    "---\n",
    "\n",
    "### 1. Import the required libraries"
   ]
  },
  {
   "cell_type": "code",
   "execution_count": 1,
   "id": "44987a5f-e02b-41ae-b4c3-30085784fa3e",
   "metadata": {
    "tags": []
   },
   "outputs": [
    {
     "data": {
      "text/plain": [
       "\u001b[32mimport \u001b[39m\u001b[36m$ivy.$                                     \n",
       "\u001b[39m\n",
       "\u001b[32mimport \u001b[39m\u001b[36m$ivy.$                               \n",
       "\u001b[39m\n",
       "\u001b[32mimport \u001b[39m\u001b[36m$ivy.$                   \n",
       "//import $ivy.`org.slf4j:slf4j-jdk14:2.0.7`\u001b[39m"
      ]
     },
     "execution_count": 1,
     "metadata": {},
     "output_type": "execute_result"
    }
   ],
   "source": [
    "import $ivy.`org.apache.kafka:kafka-clients:3.4.0`\n",
    "import $ivy.`org.scalanlp::breeze-viz:2.1.0`\n",
    "import $ivy.`log4j:log4j:1.2.17`\n",
    "//import $ivy.`org.slf4j:slf4j-jdk14:2.0.7`"
   ]
  },
  {
   "cell_type": "code",
   "execution_count": 2,
   "id": "8b4ad5f7-2fb5-43fa-9e90-14f90e241a11",
   "metadata": {
    "tags": []
   },
   "outputs": [
    {
     "data": {
      "text/plain": [
       "\u001b[32mimport \u001b[39m\u001b[36morg.apache.kafka.common.serialization.{ByteArrayDeserializer, ByteArraySerializer,\n",
       "                                              LongDeserializer, LongSerializer, StringDeserializer, StringSerializer}\n",
       "\u001b[39m\n",
       "\u001b[32mimport \u001b[39m\u001b[36morg.apache.kafka.clients.consumer.{ConsumerConfig, KafkaConsumer}\n",
       "\u001b[39m\n",
       "\u001b[32mimport \u001b[39m\u001b[36mscala.jdk.CollectionConverters._\u001b[39m"
      ]
     },
     "execution_count": 2,
     "metadata": {},
     "output_type": "execute_result"
    }
   ],
   "source": [
    "import org.apache.kafka.common.serialization.{ByteArrayDeserializer, ByteArraySerializer,\n",
    "                                              LongDeserializer, LongSerializer, StringDeserializer, StringSerializer}\n",
    "import org.apache.kafka.clients.consumer.{ConsumerConfig, KafkaConsumer}\n",
    "import scala.jdk.CollectionConverters._"
   ]
  },
  {
   "cell_type": "code",
   "execution_count": 3,
   "id": "acb4cf56-3360-41fb-8063-547e7d567160",
   "metadata": {
    "tags": []
   },
   "outputs": [
    {
     "data": {
      "text/plain": [
       "\u001b[32mimport \u001b[39m\u001b[36mscala.io.Source\n",
       "\u001b[39m\n",
       "\u001b[32mimport \u001b[39m\u001b[36mscala.util.control.Breaks._\n",
       "\u001b[39m\n",
       "\u001b[32mimport \u001b[39m\u001b[36mjava.io.File\n",
       "\u001b[39m\n",
       "\u001b[32mimport \u001b[39m\u001b[36mjava.util.Properties\n",
       "\u001b[39m\n",
       "\u001b[32mimport \u001b[39m\u001b[36mjava.nio.ByteBuffer\n",
       "\u001b[39m\n",
       "\u001b[32mimport \u001b[39m\u001b[36mjava.sql.Timestamp\u001b[39m"
      ]
     },
     "execution_count": 3,
     "metadata": {},
     "output_type": "execute_result"
    }
   ],
   "source": [
    "import scala.io.Source\n",
    "import scala.util.control.Breaks._\n",
    "import java.io.File\n",
    "import java.util.Properties\n",
    "import java.nio.ByteBuffer\n",
    "import java.sql.Timestamp"
   ]
  },
  {
   "cell_type": "code",
   "execution_count": 4,
   "id": "a21ab1e1-9b96-48c1-90eb-42995a7a8130",
   "metadata": {
    "tags": []
   },
   "outputs": [
    {
     "data": {
      "text/plain": [
       "\u001b[32mimport \u001b[39m\u001b[36mbreeze.linalg._\n",
       "\u001b[39m\n",
       "\u001b[32mimport \u001b[39m\u001b[36mbreeze.plot._\n",
       "\u001b[39m\n",
       "\u001b[32mimport \u001b[39m\u001b[36morg.apache.log4j.{Level, Logger}\u001b[39m"
      ]
     },
     "execution_count": 4,
     "metadata": {},
     "output_type": "execute_result"
    }
   ],
   "source": [
    "import breeze.linalg._\n",
    "import breeze.plot._\n",
    "import org.apache.log4j.{Level, Logger}"
   ]
  },
  {
   "cell_type": "markdown",
   "id": "dd4b2c7c-0d6e-4bdd-9b66-36809e04cf82",
   "metadata": {},
   "source": [
    "## 2. Initialise the Environment\n"
   ]
  },
  {
   "cell_type": "code",
   "execution_count": 5,
   "id": "697c69b1-254a-4550-bf91-51dd1ac57107",
   "metadata": {
    "tags": []
   },
   "outputs": [
    {
     "data": {
      "text/plain": [
       "\u001b[36mlogger\u001b[39m: \u001b[32mLogger\u001b[39m = org.apache.log4j.Logger@277d2440"
      ]
     },
     "execution_count": 5,
     "metadata": {},
     "output_type": "execute_result"
    }
   ],
   "source": [
    "val logger: Logger = Logger.getLogger(\"Kafka_Realtime_Sink\")\n",
    "logger.setLevel(Level.INFO)"
   ]
  },
  {
   "cell_type": "code",
   "execution_count": 6,
   "id": "d60acca9-a59d-4c7f-ab84-a5d1fff83ba1",
   "metadata": {
    "tags": []
   },
   "outputs": [
    {
     "data": {
      "text/plain": [
       "\u001b[36mtopic\u001b[39m: \u001b[32mString\u001b[39m = \u001b[32m\"credit_card_txns\"\u001b[39m\n",
       "\u001b[36mbroker\u001b[39m: \u001b[32mString\u001b[39m = \u001b[32m\"localhost:9092\"\u001b[39m\n",
       "\u001b[36mgroupId\u001b[39m: \u001b[32mString\u001b[39m = \u001b[32m\"group1\"\u001b[39m"
      ]
     },
     "execution_count": 6,
     "metadata": {},
     "output_type": "execute_result"
    }
   ],
   "source": [
    "var topic:String = \"credit_card_txns\";\n",
    "var broker:String = \"localhost:9092\";\n",
    "val groupId = \"group1\""
   ]
  },
  {
   "cell_type": "markdown",
   "id": "b567ce4b-8607-4504-9a8a-c62e44119d7b",
   "metadata": {},
   "source": [
    "### 2.1 Configure the Consumer"
   ]
  },
  {
   "cell_type": "code",
   "execution_count": 7,
   "id": "60ad9793-4aa7-4ebf-9924-91d70415798e",
   "metadata": {
    "tags": []
   },
   "outputs": [
    {
     "name": "stderr",
     "output_type": "stream",
     "text": [
      "SLF4J: Failed to load class \"org.slf4j.impl.StaticLoggerBinder\".\n",
      "SLF4J: Defaulting to no-operation (NOP) logger implementation\n",
      "SLF4J: See http://www.slf4j.org/codes.html#StaticLoggerBinder for further details.\n"
     ]
    },
    {
     "data": {
      "text/plain": [
       "\u001b[36mprops\u001b[39m: \u001b[32mProperties\u001b[39m = {key.deserializer=org.apache.kafka.common.serialization.LongDeserializer, value.deserializer=org.apache.kafka.common.serialization.ByteArrayDeserializer, group.id=group1, bootstrap.servers=localhost:9092}\n",
       "\u001b[36mres6_1\u001b[39m: \u001b[32mObject\u001b[39m = \u001b[32mnull\u001b[39m\n",
       "\u001b[36mres6_2\u001b[39m: \u001b[32mObject\u001b[39m = \u001b[32mnull\u001b[39m\n",
       "\u001b[36mres6_3\u001b[39m: \u001b[32mObject\u001b[39m = \u001b[32mnull\u001b[39m\n",
       "\u001b[36mres6_4\u001b[39m: \u001b[32mObject\u001b[39m = \u001b[32mnull\u001b[39m\n",
       "\u001b[36mconsumer\u001b[39m: \u001b[32mKafkaConsumer\u001b[39m[\u001b[32mLong\u001b[39m, \u001b[32mArray\u001b[39m[\u001b[32mByte\u001b[39m]] = org.apache.kafka.clients.consumer.KafkaConsumer@31fc239b"
      ]
     },
     "execution_count": 7,
     "metadata": {},
     "output_type": "execute_result"
    }
   ],
   "source": [
    "val props = new Properties()\n",
    "props.put(ConsumerConfig.BOOTSTRAP_SERVERS_CONFIG, broker)\n",
    "props.put(ConsumerConfig.KEY_DESERIALIZER_CLASS_CONFIG, classOf[LongDeserializer].getName)\n",
    "props.put(ConsumerConfig.VALUE_DESERIALIZER_CLASS_CONFIG, classOf[ByteArrayDeserializer].getName)\n",
    "props.put(ConsumerConfig.GROUP_ID_CONFIG, groupId)\n",
    "\n",
    "val consumer = new KafkaConsumer[Long, Array[Byte]](props)"
   ]
  },
  {
   "cell_type": "code",
   "execution_count": 8,
   "id": "81c84f7a-8ad3-45ef-bcf3-df41704761c0",
   "metadata": {},
   "outputs": [
    {
     "data": {
      "text/plain": [
       "defined \u001b[32mclass\u001b[39m \u001b[36mTransactionRecord\u001b[39m"
      ]
     },
     "execution_count": 8,
     "metadata": {},
     "output_type": "execute_result"
    }
   ],
   "source": [
    "case class TransactionRecord(\n",
    "    eventTime: Timestamp,\n",
    "    txnID: Long,\n",
    "    Amount: Double,\n",
    "    IsFraud: Int,\n",
    "    V4: Double,\n",
    "    V9: Double,\n",
    "    V11: Double,\n",
    "    V14: Double,\n",
    "    V16: Double,\n",
    "    LOCATION_ID: Long,\n",
    "    ACC_NO: Long,\n",
    "    IsRedemption: Int=0\n",
    "){\n",
    "    override def toString():String = {\n",
    "        val sb = new StringBuilder(\"txnID: \")\n",
    "        sb.append(this.txnID)\n",
    "        sb.append(\", Event time=\")\n",
    "        sb.append(this.eventTime)\n",
    "        sb.append(\", Amount=\")\n",
    "        sb.append(this.Amount)\n",
    "        sb.append(\", IsRedemption? \")\n",
    "        sb.append(this.IsRedemption)\n",
    "        sb.append(\", IsFraud? \")\n",
    "        sb.append(this.IsFraud)\n",
    "        sb.append(\", Location=\")\n",
    "        sb.append(this.LOCATION_ID)\n",
    "        sb.append(\", Account No=\")\n",
    "        sb.append(this.ACC_NO)\n",
    "        sb.append(\", V4=\")\n",
    "        sb.append(this.V4)\n",
    "        sb.append(\", V9=\")\n",
    "        sb.append(this.V9)\n",
    "        sb.append(\", V11=\")\n",
    "        sb.append(this.V11)\n",
    "        sb.append(\", V14=\")\n",
    "        sb.append(this.V14)\n",
    "        sb.append(\", V16=\")\n",
    "        sb.append(this.V16)\n",
    "        return sb.toString\n",
    "    }\n",
    "}"
   ]
  },
  {
   "cell_type": "code",
   "execution_count": 9,
   "id": "c129e72c-c8f6-4210-80b6-5fe76b6a891b",
   "metadata": {
    "tags": []
   },
   "outputs": [
    {
     "name": "stdout",
     "output_type": "stream",
     "text": [
      "Example of a transaction:\n",
      "txnID: 11, Event time=2021-01-08 15:30:00.0, Amount=1.1, IsRedemption? 0, IsFraud? 0, Location=99, Account No=99999, V4=0.04, V9=0.09, V11=0.11, V14=0.14, V16=0.16\n"
     ]
    }
   ],
   "source": [
    "println(\"Example of a transaction:\")\n",
    "println(\n",
    "    new TransactionRecord(\n",
    "        new java.sql.Timestamp(1610100000000L), 11, 1.1, 0, 0.04, 0.09, 0.11, 0.14, 0.16, 99, 99999, 0\n",
    "    )\n",
    ")"
   ]
  },
  {
   "cell_type": "code",
   "execution_count": 10,
   "id": "a29c7170-3ed6-498f-91e3-33d04fb677f0",
   "metadata": {
    "tags": []
   },
   "outputs": [
    {
     "data": {
      "text/plain": [
       "defined \u001b[32mfunction\u001b[39m \u001b[36mdeserializeTransactionRecord\u001b[39m"
      ]
     },
     "execution_count": 10,
     "metadata": {},
     "output_type": "execute_result"
    }
   ],
   "source": [
    "def deserializeTransactionRecord(id:Long, bytes: Array[Byte]): TransactionRecord = {\n",
    "    \n",
    "    val buffer = ByteBuffer.wrap(bytes)\n",
    "    \n",
    "    val eventTime = new java.sql.Timestamp(buffer.getLong)\n",
    "    val V4 = buffer.getDouble\n",
    "    val V9 = buffer.getDouble\n",
    "    val V11 = buffer.getDouble\n",
    "    val V14 = buffer.getDouble\n",
    "    val V16 = buffer.getDouble\n",
    "    val amount = buffer.getDouble\n",
    "    val isFraud = buffer.getInt\n",
    "    val location = buffer.getLong\n",
    "    val acc_no = buffer.getLong\n",
    "    val isRedemption = buffer.getInt\n",
    "    \n",
    "    TransactionRecord(eventTime, id, amount, isFraud, V4, V9, V11, V14, V16, location, acc_no, isRedemption)\n",
    "}"
   ]
  },
  {
   "cell_type": "code",
   "execution_count": null,
   "id": "f53c8baf-cf85-4d51-a378-08892355413c",
   "metadata": {
    "tags": []
   },
   "outputs": [
    {
     "name": "stdout",
     "output_type": "stream",
     "text": [
      "\tGot record: txnID: 1, Event time=2021-04-04 05:57:24.227, Amount=14962.31, IsRedemption? 0, IsFraud? 0, Location=15, Account No=11, V4=1.378155224, V9=0.36378697, V11=-0.551599533, V14=-0.311169354, V16=-0.470400525\n",
      "\tGot record: txnID: 2, Event time=2021-04-04 05:57:24.227, Amount=269.02, IsRedemption? 0, IsFraud? 0, Location=19, Account No=21, V4=0.448154078, V9=-0.255425128, V11=1.612726661, V14=-0.143772296, V16=0.463917041\n",
      "\tGot record: txnID: 4, Event time=2021-04-04 05:59:04.227, Amount=12350.41, IsRedemption? 0, IsFraud? 0, Location=17, Account No=4, V4=-0.863291275, V9=-1.387024063, V11=-0.226487264, V14=-0.287923745, V16=-1.059647245\n",
      "\tGot record: txnID: 5, Event time=2021-04-04 06:00:44.227, Amount=6999.16, IsRedemption? 0, IsFraud? 0, Location=22, Account No=9, V4=0.403033934, V9=0.817739308, V11=-0.822842878, V14=-1.119669835, V16=-0.451449183\n",
      "\tGot record: txnID: 3, Event time=2021-04-04 05:59:04.227, Amount=37866.68, IsRedemption? 0, IsFraud? 0, Location=13, Account No=44, V4=0.379779593, V9=-1.514654323, V11=0.624501459, V14=-0.165945923, V16=-2.890083194\n",
      "Received 5 messages till now.\n"
     ]
    }
   ],
   "source": [
    "var counter:Int = 0\n",
    "var prevCount:Int = 0\n",
    "\n",
    "consumer.subscribe(Seq(topic).asJava)\n",
    "\n",
    "try {\n",
    "    while (counter < 50) {\n",
    "        val records = consumer.poll(java.time.Duration.ofMillis(500))\n",
    "\n",
    "        for (record <- records.asScala) {\n",
    "            val txn_id = record.key()\n",
    "            val valueBytes = record.value()\n",
    "            val customRecord = deserializeTransactionRecord(txn_id, valueBytes)\n",
    "            println(customRecord)\n",
    "            counter = counter + 1\n",
    "        }\n",
    "        if (counter > prevCount){\n",
    "            println(s\"*** Received $counter messages till now. ***\")\n",
    "            prevCount = counter\n",
    "        }\n",
    "    }\n",
    "}"
   ]
  },
  {
   "cell_type": "code",
   "execution_count": null,
   "id": "4bc0b9ea-1313-4f3f-8d6e-5043b842f0a1",
   "metadata": {
    "tags": []
   },
   "outputs": [],
   "source": [
    "consumer.close()"
   ]
  },
  {
   "cell_type": "code",
   "execution_count": null,
   "id": "a2c86917-2aa0-4be5-832c-7f412b4c9e8b",
   "metadata": {},
   "outputs": [],
   "source": []
  }
 ],
 "metadata": {
  "kernelspec": {
   "display_name": "Scala",
   "language": "scala",
   "name": "scala"
  },
  "language_info": {
   "codemirror_mode": "text/x-scala",
   "file_extension": ".sc",
   "mimetype": "text/x-scala",
   "name": "scala",
   "nbconvert_exporter": "script",
   "version": "2.13.10"
  }
 },
 "nbformat": 4,
 "nbformat_minor": 5
}

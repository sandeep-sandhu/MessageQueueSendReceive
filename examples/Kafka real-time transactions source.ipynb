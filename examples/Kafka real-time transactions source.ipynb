{
 "cells": [
  {
   "cell_type": "markdown",
   "id": "883d1cbc-0fd8-4064-a832-d150f5317d53",
   "metadata": {},
   "source": [
    "# Kafka Real-time Transactions Source\n",
    "\n",
    "Simulation of real-time data by feeding transaction data from a file into a Kafka message queue.\n",
    "\n",
    "---\n",
    "\n",
    "### 1. Import the required libraries"
   ]
  },
  {
   "cell_type": "code",
   "execution_count": 1,
   "id": "44987a5f-e02b-41ae-b4c3-30085784fa3e",
   "metadata": {
    "tags": []
   },
   "outputs": [
    {
     "data": {
      "text/plain": [
       "\u001b[32mimport \u001b[39m\u001b[36m$ivy.$                                     \n",
       "\u001b[39m\n",
       "\u001b[32mimport \u001b[39m\u001b[36m$ivy.$                               \n",
       "\u001b[39m\n",
       "\u001b[32mimport \u001b[39m\u001b[36m$ivy.$                   \n",
       "//import $ivy.`org.slf4j:slf4j-jdk14:2.0.7`\u001b[39m"
      ]
     },
     "execution_count": 1,
     "metadata": {},
     "output_type": "execute_result"
    }
   ],
   "source": [
    "import $ivy.`org.apache.kafka:kafka-clients:3.4.0`\n",
    "import $ivy.`org.scalanlp::breeze-viz:2.1.0`\n",
    "import $ivy.`log4j:log4j:1.2.17`\n",
    "//import $ivy.`org.slf4j:slf4j-jdk14:2.0.7`"
   ]
  },
  {
   "cell_type": "code",
   "execution_count": 2,
   "id": "8b4ad5f7-2fb5-43fa-9e90-14f90e241a11",
   "metadata": {
    "tags": []
   },
   "outputs": [
    {
     "data": {
      "text/plain": [
       "\u001b[32mimport \u001b[39m\u001b[36morg.apache.kafka.clients.producer.{KafkaProducer, ProducerRecord}\n",
       "\u001b[39m\n",
       "\u001b[32mimport \u001b[39m\u001b[36morg.apache.kafka.common.serialization.{ByteArrayDeserializer, ByteArraySerializer,\n",
       "                                              LongDeserializer, LongSerializer,\n",
       "                                              StringDeserializer, StringSerializer}\n",
       "\u001b[39m\n",
       "\u001b[32mimport \u001b[39m\u001b[36mscala.jdk.CollectionConverters._\u001b[39m"
      ]
     },
     "execution_count": 2,
     "metadata": {},
     "output_type": "execute_result"
    }
   ],
   "source": [
    "import org.apache.kafka.clients.producer.{KafkaProducer, ProducerRecord}\n",
    "import org.apache.kafka.common.serialization.{ByteArrayDeserializer, ByteArraySerializer,\n",
    "                                              LongDeserializer, LongSerializer,\n",
    "                                              StringDeserializer, StringSerializer}\n",
    "import scala.jdk.CollectionConverters._"
   ]
  },
  {
   "cell_type": "code",
   "execution_count": 3,
   "id": "acb4cf56-3360-41fb-8063-547e7d567160",
   "metadata": {
    "tags": []
   },
   "outputs": [
    {
     "data": {
      "text/plain": [
       "\u001b[32mimport \u001b[39m\u001b[36mscala.io.Source\n",
       "\u001b[39m\n",
       "\u001b[32mimport \u001b[39m\u001b[36mscala.util.control.Breaks._\n",
       "\u001b[39m\n",
       "\u001b[32mimport \u001b[39m\u001b[36mjava.io.File\n",
       "\u001b[39m\n",
       "\u001b[32mimport \u001b[39m\u001b[36mjava.util.Properties\n",
       "\u001b[39m\n",
       "\u001b[32mimport \u001b[39m\u001b[36mjava.nio.ByteBuffer\n",
       "\u001b[39m\n",
       "\u001b[32mimport \u001b[39m\u001b[36mjava.sql.Timestamp\u001b[39m"
      ]
     },
     "execution_count": 3,
     "metadata": {},
     "output_type": "execute_result"
    }
   ],
   "source": [
    "import scala.io.Source\n",
    "import scala.util.control.Breaks._\n",
    "import java.io.File\n",
    "import java.util.Properties\n",
    "import java.nio.ByteBuffer\n",
    "import java.sql.Timestamp"
   ]
  },
  {
   "cell_type": "code",
   "execution_count": 4,
   "id": "a21ab1e1-9b96-48c1-90eb-42995a7a8130",
   "metadata": {
    "tags": []
   },
   "outputs": [
    {
     "data": {
      "text/plain": [
       "\u001b[32mimport \u001b[39m\u001b[36mbreeze.linalg._\n",
       "\u001b[39m\n",
       "\u001b[32mimport \u001b[39m\u001b[36mbreeze.plot._\n",
       "\u001b[39m\n",
       "\u001b[32mimport \u001b[39m\u001b[36morg.apache.log4j.{Level, Logger}\u001b[39m"
      ]
     },
     "execution_count": 4,
     "metadata": {},
     "output_type": "execute_result"
    }
   ],
   "source": [
    "import breeze.linalg._\n",
    "import breeze.plot._\n",
    "import org.apache.log4j.{Level, Logger}"
   ]
  },
  {
   "cell_type": "markdown",
   "id": "dd4b2c7c-0d6e-4bdd-9b66-36809e04cf82",
   "metadata": {},
   "source": [
    "## 2. Initialise the Environment\n"
   ]
  },
  {
   "cell_type": "code",
   "execution_count": 5,
   "id": "697c69b1-254a-4550-bf91-51dd1ac57107",
   "metadata": {
    "tags": []
   },
   "outputs": [
    {
     "data": {
      "text/plain": [
       "\u001b[36mlogger\u001b[39m: \u001b[32mLogger\u001b[39m = org.apache.log4j.Logger@106032"
      ]
     },
     "execution_count": 5,
     "metadata": {},
     "output_type": "execute_result"
    }
   ],
   "source": [
    "val logger: Logger = Logger.getLogger(\"Kafka_Realtime_Source\")\n",
    "logger.setLevel(Level.INFO)"
   ]
  },
  {
   "cell_type": "code",
   "execution_count": 6,
   "id": "d60acca9-a59d-4c7f-ab84-a5d1fff83ba1",
   "metadata": {
    "tags": []
   },
   "outputs": [
    {
     "data": {
      "text/plain": [
       "\u001b[36mtopic\u001b[39m: \u001b[32mString\u001b[39m = \u001b[32m\"credit_card_txns\"\u001b[39m\n",
       "\u001b[36mbroker\u001b[39m: \u001b[32mString\u001b[39m = \u001b[32m\"localhost:9092\"\u001b[39m"
      ]
     },
     "execution_count": 6,
     "metadata": {},
     "output_type": "execute_result"
    }
   ],
   "source": [
    "var topic:String = \"credit_card_txns\";\n",
    "var broker:String = \"localhost:9092\";"
   ]
  },
  {
   "cell_type": "code",
   "execution_count": 7,
   "id": "5e455b9e-06c0-4458-83c0-ec0ea25b04e7",
   "metadata": {
    "tags": []
   },
   "outputs": [
    {
     "data": {
      "text/plain": [
       "\u001b[36minputFileName\u001b[39m: \u001b[32mString\u001b[39m = \u001b[32m\"/mnt/shared/datasets/creditcard.csv\"\u001b[39m"
      ]
     },
     "execution_count": 7,
     "metadata": {},
     "output_type": "execute_result"
    }
   ],
   "source": [
    "var inputFileName:String = \"/mnt/shared/datasets/creditcard.csv\";"
   ]
  },
  {
   "cell_type": "markdown",
   "id": "b567ce4b-8607-4504-9a8a-c62e44119d7b",
   "metadata": {},
   "source": [
    "### 2.1 Configure the Producer"
   ]
  },
  {
   "cell_type": "code",
   "execution_count": 8,
   "id": "60ad9793-4aa7-4ebf-9924-91d70415798e",
   "metadata": {
    "tags": []
   },
   "outputs": [
    {
     "data": {
      "text/plain": [
       "\u001b[36mprops\u001b[39m: \u001b[32mProperties\u001b[39m = {value.serializer=org.apache.kafka.common.serialization.ByteArraySerializer, bootstrap.servers=localhost:9092, key.serializer=org.apache.kafka.common.serialization.LongSerializer}\n",
       "\u001b[36mres7_1\u001b[39m: \u001b[32mObject\u001b[39m = \u001b[32mnull\u001b[39m\n",
       "\u001b[36mres7_2\u001b[39m: \u001b[32mObject\u001b[39m = \u001b[32mnull\u001b[39m\n",
       "\u001b[36mres7_3\u001b[39m: \u001b[32mObject\u001b[39m = \u001b[32mnull\u001b[39m"
      ]
     },
     "execution_count": 8,
     "metadata": {},
     "output_type": "execute_result"
    }
   ],
   "source": [
    "val props = new Properties()\n",
    "props.put(\"bootstrap.servers\", broker)\n",
    "props.put(\"key.serializer\", classOf[LongSerializer].getName)\n",
    "props.put(\"value.serializer\", classOf[ByteArraySerializer].getName)"
   ]
  },
  {
   "cell_type": "code",
   "execution_count": 9,
   "id": "81c84f7a-8ad3-45ef-bcf3-df41704761c0",
   "metadata": {},
   "outputs": [
    {
     "data": {
      "text/plain": [
       "defined \u001b[32mclass\u001b[39m \u001b[36mTransactionRecord\u001b[39m"
      ]
     },
     "execution_count": 9,
     "metadata": {},
     "output_type": "execute_result"
    }
   ],
   "source": [
    "case class TransactionRecord(\n",
    "    eventTime: Timestamp,\n",
    "    txnID: Long,\n",
    "    Amount: Double,\n",
    "    IsFraud: Int,\n",
    "    V4: Double,\n",
    "    V9: Double,\n",
    "    V11: Double,\n",
    "    V14: Double,\n",
    "    V16: Double,\n",
    "    LOCATION_ID: Long,\n",
    "    ACC_NO: Long,\n",
    "    IsRedemption: Int=0\n",
    "){\n",
    "    override def toString():String = {\n",
    "        val sb = new StringBuilder(\"txnID: \")\n",
    "        sb.append(this.txnID)\n",
    "        sb.append(\", Event time=\")\n",
    "        sb.append(this.eventTime)\n",
    "        sb.append(\", Amount=\")\n",
    "        sb.append(this.Amount)\n",
    "        sb.append(\", IsRedemption? \")\n",
    "        sb.append(this.IsRedemption)\n",
    "        sb.append(\", IsFraud? \")\n",
    "        sb.append(this.IsFraud)\n",
    "        sb.append(\", Location=\")\n",
    "        sb.append(this.LOCATION_ID)\n",
    "        sb.append(\", Account No=\")\n",
    "        sb.append(this.ACC_NO)\n",
    "        sb.append(\", V4=\")\n",
    "        sb.append(this.V4)\n",
    "        sb.append(\", V9=\")\n",
    "        sb.append(this.V9)\n",
    "        sb.append(\", V11=\")\n",
    "        sb.append(this.V11)\n",
    "        sb.append(\", V14=\")\n",
    "        sb.append(this.V14)\n",
    "        sb.append(\", V16=\")\n",
    "        sb.append(this.V16)\n",
    "        return sb.toString\n",
    "    }\n",
    "}"
   ]
  },
  {
   "cell_type": "code",
   "execution_count": 10,
   "id": "a29c7170-3ed6-498f-91e3-33d04fb677f0",
   "metadata": {
    "tags": []
   },
   "outputs": [
    {
     "data": {
      "text/plain": [
       "defined \u001b[32mfunction\u001b[39m \u001b[36mserializeTransactionRecord\u001b[39m"
      ]
     },
     "execution_count": 10,
     "metadata": {},
     "output_type": "execute_result"
    }
   ],
   "source": [
    "def serializeTransactionRecord(record: TransactionRecord): Array[Byte] = {\n",
    "\n",
    "    val buffer = ByteBuffer.allocate(\n",
    "        java.lang.Long.BYTES  // event time\n",
    "        + java.lang.Double.BYTES  // V4\n",
    "        + java.lang.Double.BYTES  // V9\n",
    "        + java.lang.Double.BYTES  // V11\n",
    "        + java.lang.Double.BYTES  // V14\n",
    "        + java.lang.Double.BYTES  // V16\n",
    "        + java.lang.Double.BYTES  // Amount\n",
    "        + java.lang.Integer.BYTES  // is Fraud?\n",
    "        + java.lang.Long.BYTES  // location ID\n",
    "        + java.lang.Long.BYTES  // Account No.\n",
    "        + java.lang.Integer.BYTES  // Is Redemption?\n",
    "    )\n",
    "\n",
    "    buffer.putLong(record.eventTime.getTime)\n",
    "    buffer.putDouble(record.V4)\n",
    "    buffer.putDouble(record.V9)\n",
    "    buffer.putDouble(record.V11)\n",
    "    buffer.putDouble(record.V14)\n",
    "    buffer.putDouble(record.V16)\n",
    "    buffer.putDouble(record.Amount)\n",
    "    buffer.putInt(record.IsFraud)\n",
    "    buffer.putLong(record.LOCATION_ID)\n",
    "    buffer.putLong(record.ACC_NO)\n",
    "    buffer.putInt(record.IsRedemption)\n",
    "    \n",
    "    // return the serialised data\n",
    "    buffer.array()\n",
    "}"
   ]
  },
  {
   "cell_type": "markdown",
   "id": "7d6dabde-19ef-4728-a54c-3d142ac9de7c",
   "metadata": {},
   "source": [
    "## Read transactions file"
   ]
  },
  {
   "cell_type": "code",
   "execution_count": 11,
   "id": "90c91054-053d-42e7-8a33-cfa89624e4c9",
   "metadata": {
    "tags": []
   },
   "outputs": [
    {
     "name": "stdout",
     "output_type": "stream",
     "text": [
      "Opening file /mnt/shared/datasets/creditcard.csv\n"
     ]
    },
    {
     "data": {
      "text/plain": [
       "\u001b[32mimport \u001b[39m\u001b[36mjava.nio.file.{Paths, Files}\n",
       "\n",
       "\u001b[39m\n",
       "\u001b[36mbufferedSource\u001b[39m: \u001b[32mscala\u001b[39m.\u001b[32mio\u001b[39m.\u001b[32mBufferedSource\u001b[39m = \u001b[32mnon-empty iterator\u001b[39m\n",
       "\u001b[36mlineIterator\u001b[39m: \u001b[32mIterator\u001b[39m[\u001b[32mString\u001b[39m] = \u001b[32mnon-empty iterator\u001b[39m"
      ]
     },
     "execution_count": 11,
     "metadata": {},
     "output_type": "execute_result"
    }
   ],
   "source": [
    "import java.nio.file.{Paths, Files}\n",
    "\n",
    "if(Files.exists(Paths.get(inputFileName))){\n",
    "    println(s\"Opening file $inputFileName\")\n",
    "    \n",
    "}else{\n",
    "    throw new Exception(s\"Error: file $inputFileName does not exist\")\n",
    "}\n",
    "\n",
    "val bufferedSource = Source.fromFile(inputFileName)\n",
    "val lineIterator = bufferedSource.getLines()"
   ]
  },
  {
   "cell_type": "code",
   "execution_count": 12,
   "id": "1f012a3e-c922-4447-a0d3-eff943b9ea59",
   "metadata": {
    "tags": []
   },
   "outputs": [
    {
     "data": {
      "text/plain": [
       "\u001b[36mheader\u001b[39m: \u001b[32mString\u001b[39m = \u001b[32m\"ime,V1,V2,V3,V4,V5,V6,V7,V8,V9,V10,V11,V12,V13,V14,V15,V16,V17,V18,V19,V20,V21,V22,V23,V24,V25,V26,V27,V28,TXN_AMT,IS_FRAUD,TXN_ID,LOCATION_ID,ACC_NO,IS_REDEMPTION\"\u001b[39m\n",
       "\u001b[36mheader_fields\u001b[39m: \u001b[32mArray\u001b[39m[\u001b[32mString\u001b[39m] = \u001b[33mArray\u001b[39m(\n",
       "  \u001b[32m\"ime\"\u001b[39m,\n",
       "  \u001b[32m\"V1\"\u001b[39m,\n",
       "  \u001b[32m\"V2\"\u001b[39m,\n",
       "  \u001b[32m\"V3\"\u001b[39m,\n",
       "  \u001b[32m\"V4\"\u001b[39m,\n",
       "  \u001b[32m\"V5\"\u001b[39m,\n",
       "  \u001b[32m\"V6\"\u001b[39m,\n",
       "  \u001b[32m\"V7\"\u001b[39m,\n",
       "  \u001b[32m\"V8\"\u001b[39m,\n",
       "  \u001b[32m\"V9\"\u001b[39m,\n",
       "  \u001b[32m\"V10\"\u001b[39m,\n",
       "  \u001b[32m\"V11\"\u001b[39m,\n",
       "  \u001b[32m\"V12\"\u001b[39m,\n",
       "  \u001b[32m\"V13\"\u001b[39m,\n",
       "  \u001b[32m\"V14\"\u001b[39m,\n",
       "  \u001b[32m\"V15\"\u001b[39m,\n",
       "  \u001b[32m\"V16\"\u001b[39m,\n",
       "  \u001b[32m\"V17\"\u001b[39m,\n",
       "  \u001b[32m\"V18\"\u001b[39m,\n",
       "  \u001b[32m\"V19\"\u001b[39m,\n",
       "  \u001b[32m\"V20\"\u001b[39m,\n",
       "  \u001b[32m\"V21\"\u001b[39m,\n",
       "  \u001b[32m\"V22\"\u001b[39m,\n",
       "  \u001b[32m\"V23\"\u001b[39m,\n",
       "  \u001b[32m\"V24\"\u001b[39m,\n",
       "  \u001b[32m\"V25\"\u001b[39m,\n",
       "  \u001b[32m\"V26\"\u001b[39m,\n",
       "  \u001b[32m\"V27\"\u001b[39m,\n",
       "  \u001b[32m\"V28\"\u001b[39m,\n",
       "  \u001b[32m\"TXN_AMT\"\u001b[39m,\n",
       "  \u001b[32m\"IS_FRAUD\"\u001b[39m,\n",
       "  \u001b[32m\"TXN_ID\"\u001b[39m,\n",
       "  \u001b[32m\"LOCATION_ID\"\u001b[39m,\n",
       "  \u001b[32m\"ACC_NO\"\u001b[39m,\n",
       "  \u001b[32m\"IS_REDEMPTION\"\u001b[39m\n",
       ")"
      ]
     },
     "execution_count": 12,
     "metadata": {},
     "output_type": "execute_result"
    }
   ],
   "source": [
    "val header = lineIterator.next();\n",
    "\n",
    "val header_fields: Array[String] = header.split(',').map(\n",
    "    x => x.stripPrefix(\"\\\"\").stripSuffix(\"\\\"\").trim\n",
    ")"
   ]
  },
  {
   "cell_type": "code",
   "execution_count": 13,
   "id": "681d452e-f321-4f16-82cd-39ba6e5daf91",
   "metadata": {
    "tags": []
   },
   "outputs": [
    {
     "name": "stdout",
     "output_type": "stream",
     "text": [
      "The following columns will be retained:\n",
      "\tColumn #0: ime\n",
      "\tColumn #29: TXN_AMT\n",
      "\tColumn #30: IS_FRAUD\n",
      "\tColumn #4: V4\n",
      "\tColumn #9: V9\n",
      "\tColumn #11: V11\n",
      "\tColumn #14: V14\n",
      "\tColumn #16: V16\n",
      "\tColumn #31: TXN_ID\n",
      "\tColumn #32: LOCATION_ID\n",
      "\tColumn #33: ACC_NO\n",
      "\tColumn #34: IS_REDEMPTION\n",
      "\n",
      "Starting time: 2021-04-05 14:00:55.691\n"
     ]
    },
    {
     "data": {
      "text/plain": [
       "\u001b[36mcols_to_keep\u001b[39m: \u001b[32mArray\u001b[39m[\u001b[32mInt\u001b[39m] = \u001b[33mArray\u001b[39m(\u001b[32m0\u001b[39m, \u001b[32m29\u001b[39m, \u001b[32m30\u001b[39m, \u001b[32m4\u001b[39m, \u001b[32m9\u001b[39m, \u001b[32m11\u001b[39m, \u001b[32m14\u001b[39m, \u001b[32m16\u001b[39m, \u001b[32m31\u001b[39m, \u001b[32m32\u001b[39m, \u001b[32m33\u001b[39m, \u001b[32m34\u001b[39m)\n",
       "\u001b[36mstart_time_ms\u001b[39m: \u001b[32mLong\u001b[39m = \u001b[32m1617611455691L\u001b[39m"
      ]
     },
     "execution_count": 13,
     "metadata": {},
     "output_type": "execute_result"
    }
   ],
   "source": [
    "val cols_to_keep = Array(0, 29, 30, 4, 9, 11, 14, 16, 31, 32, 33, 34);\n",
    "// Time, Amount, Class, V4, V9, V11, V14, V16, TXN_ID, LOCATION_ID, ACC_NO\n",
    "\n",
    "println(\"The following columns will be retained:\");\n",
    "cols_to_keep.foreach( x => println(s\"\\tColumn #$x: \" + header_fields(x)) );\n",
    "\n",
    "val start_time_ms = System.currentTimeMillis() - 70000000000L;\n",
    "println(\"\\nStarting time: \" + new Timestamp(start_time_ms))"
   ]
  },
  {
   "cell_type": "code",
   "execution_count": 14,
   "id": "c9cacf1c-7d26-4fd3-b2b0-5bbaaad427af",
   "metadata": {
    "tags": []
   },
   "outputs": [
    {
     "name": "stderr",
     "output_type": "stream",
     "text": [
      "SLF4J: Failed to load class \"org.slf4j.impl.StaticLoggerBinder\".\n",
      "SLF4J: Defaulting to no-operation (NOP) logger implementation\n",
      "SLF4J: See http://www.slf4j.org/codes.html#StaticLoggerBinder for further details.\n"
     ]
    },
    {
     "data": {
      "text/plain": [
       "\u001b[36mproducer\u001b[39m: \u001b[32mKafkaProducer\u001b[39m[\u001b[32mLong\u001b[39m, \u001b[32mArray\u001b[39m[\u001b[32mByte\u001b[39m]] = org.apache.kafka.clients.producer.KafkaProducer@b37759e"
      ]
     },
     "execution_count": 14,
     "metadata": {},
     "output_type": "execute_result"
    }
   ],
   "source": [
    "val producer:KafkaProducer[Long, Array[Byte]] = new KafkaProducer[Long, Array[Byte]](props)"
   ]
  },
  {
   "cell_type": "code",
   "execution_count": 23,
   "id": "2b00370f-60e3-407c-84d2-1fe08e6df3ca",
   "metadata": {
    "tags": []
   },
   "outputs": [
    {
     "name": "stdout",
     "output_type": "stream",
     "text": [
      "Partitions for this topic:\n",
      "Number 2, topic=credit_card_txns, leader=localhost:9092, broker id=0\n",
      "Number 3, topic=credit_card_txns, leader=localhost:9092, broker id=0\n",
      "Number 0, topic=credit_card_txns, leader=localhost:9092, broker id=0\n",
      "Number 1, topic=credit_card_txns, leader=localhost:9092, broker id=0\n",
      "Number 4, topic=credit_card_txns, leader=localhost:9092, broker id=0\n",
      "Number 5, topic=credit_card_txns, leader=localhost:9092, broker id=0\n"
     ]
    }
   ],
   "source": [
    "println(\"Partitions for this topic:\")\n",
    "\n",
    "producer.partitionsFor(topic).forEach(\n",
    "    x => println(\n",
    "        s\"Number ${x.partition}, topic=${x.topic}, leader=${x.leader.host}:${x.leader.port}, broker id=${x.leader.id}\"\n",
    "    )\n",
    ")"
   ]
  },
  {
   "cell_type": "code",
   "execution_count": 44,
   "id": "f53c8baf-cf85-4d51-a378-08892355413c",
   "metadata": {
    "tags": []
   },
   "outputs": [
    {
     "name": "stdout",
     "output_type": "stream",
     "text": [
      "Waiting for 3 seconds...\n",
      "txnID: 1591, Event time=2021-04-07 00:24:15.691, Amount=16000.63, IsRedemption? 0, IsFraud? 0, Location=16, Account No=32, V4=-1.211770949, V9=0.94658441, V11=0.640589733, V14=0.565934946, V16=-1.180130432\n",
      "txnID: 1592, Event time=2021-04-07 00:25:55.691, Amount=100.86, IsRedemption? 0, IsFraud? 0, Location=21, Account No=15, V4=-2.216486564, V9=0.319188599, V11=1.103497388, V14=1.00359516, V16=-0.614525499\n",
      "txnID: 1593, Event time=2021-04-07 00:27:35.691, Amount=17450.82, IsRedemption? 0, IsFraud? 0, Location=14, Account No=10, V4=1.5190271, V9=0.020568174, V11=0.561427081, V14=0.243707244, V16=-0.381760871\n",
      "txnID: 1594, Event time=2021-04-07 00:27:35.691, Amount=100.02, IsRedemption? 0, IsFraud? 0, Location=5, Account No=65, V4=-1.900352243, V9=0.454187909, V11=0.249596658, V14=0.772317363, V16=-1.083015925\n",
      "txnID: 1595, Event time=2021-04-07 00:29:15.691, Amount=1500.63, IsRedemption? 0, IsFraud? 0, Location=24, Account No=22, V4=-2.368229278, V9=-2.348430359, V11=-0.733456199, V14=-0.279167484, V16=-0.638051329\n",
      "txnID: 1596, Event time=2021-04-07 00:30:55.691, Amount=16000.39, IsRedemption? 0, IsFraud? 0, Location=24, Account No=23, V4=-2.270047718, V9=0.259544954, V11=1.010167739, V14=1.188112263, V16=-0.409663961\n",
      "txnID: 1597, Event time=2021-04-07 00:34:15.691, Amount=16000.03, IsRedemption? 0, IsFraud? 0, Location=14, Account No=8, V4=-1.250698997, V9=1.144319571, V11=0.248121693, V14=0.79479753, V16=-1.06231207\n",
      "txnID: 1598, Event time=2021-04-07 00:35:55.691, Amount=100.76, IsRedemption? 0, IsFraud? 0, Location=2, Account No=140, V4=-2.214714353, V9=0.375443764, V11=0.874447924, V14=1.482523671, V16=-0.358050441\n",
      "txnID: 1599, Event time=2021-04-07 00:37:35.691, Amount=1777.62, IsRedemption? 0, IsFraud? 0, Location=4, Account No=70, V4=1.053084563, V9=-1.156819131, V11=0.185302604, V14=0.334617973, V16=-0.806867318\n",
      "txnID: 1600, Event time=2021-04-07 00:37:35.691, Amount=654.29, IsRedemption? 0, IsFraud? 0, Location=6, Account No=57, V4=1.105964195, V9=-0.370355885, V11=-1.207908158, V14=-0.207059063, V16=-1.006101104\n",
      "txnID: 1601, Event time=2021-04-07 00:39:15.691, Amount=100.33, IsRedemption? 0, IsFraud? 0, Location=20, Account No=2, V4=-1.939280291, V9=0.651923071, V11=-0.142871381, V14=1.001179946, V16=-0.965197563\n",
      "txnID: 1602, Event time=2021-04-07 00:39:15.691, Amount=1513.93, IsRedemption? 0, IsFraud? 0, Location=11, Account No=47, V4=3.039667395, V9=-0.36923878, V11=-0.37405712, V14=-1.985873271, V16=-0.197345462\n",
      "txnID: 1603, Event time=2021-04-07 00:39:15.691, Amount=2166.42, IsRedemption? 0, IsFraud? 0, Location=13, Account No=44, V4=0.251726843, V9=0.317464719, V11=0.89230944, V14=0.249963475, V16=-0.994388887\n",
      "txnID: 1604, Event time=2021-04-07 00:40:55.691, Amount=3413.24, IsRedemption? 0, IsFraud? 0, Location=18, Account No=7, V4=1.618547321, V9=-1.405814692, V11=0.982306033, V14=0.175754543, V16=0.747511539\n",
      "txnID: 1605, Event time=2021-04-07 00:40:55.691, Amount=999.84, IsRedemption? 0, IsFraud? 0, Location=5, Account No=65, V4=0.703088084, V9=0.429482187, V11=-0.283212985, V14=-0.68217253, V16=-0.510426909\n",
      "txnID: 1606, Event time=2021-04-07 00:42:35.691, Amount=2000.1, IsRedemption? 0, IsFraud? 0, Location=5, Account No=65, V4=0.54896363, V9=-0.57748077, V11=0.201700203, V14=-0.505057223, V16=-1.247772031\n",
      "txnID: 1607, Event time=2021-04-07 00:44:15.691, Amount=7187.9, IsRedemption? 0, IsFraud? 0, Location=1, Account No=30, V4=1.163280329, V9=-0.166727454, V11=-0.236984049, V14=0.217897533, V16=0.015225871\n",
      "txnID: 1608, Event time=2021-04-07 00:45:55.691, Amount=3980.4, IsRedemption? 0, IsFraud? 0, Location=14, Account No=4, V4=-0.522947442, V9=-0.702486121, V11=0.281899476, V14=-1.25790282, V16=1.335717213\n",
      "txnID: 1609, Event time=2021-04-07 00:45:55.691, Amount=50000.76, IsRedemption? 0, IsFraud? 0, Location=10, Account No=47, V4=0.224652077, V9=1.710955055, V11=0.774815169, V14=-1.837560626, V16=0.498675619\n",
      "txnID: 1610, Event time=2021-04-07 00:47:35.691, Amount=16000.49, IsRedemption? 0, IsFraud? 0, Location=12, Account No=44, V4=-1.356740284, V9=0.685585684, V11=1.855482994, V14=0.678324534, V16=-0.60406834\n",
      "txnID: 1611, Event time=2021-04-07 00:47:35.691, Amount=100.54, IsRedemption? 0, IsFraud? 0, Location=6, Account No=57, V4=0.632684238, V9=-0.715711609, V11=-0.071873544, V14=-1.849062278, V16=0.512330566\n",
      "txnID: 1612, Event time=2021-04-07 00:47:35.691, Amount=4354.02, IsRedemption? 0, IsFraud? 0, Location=22, Account No=22, V4=0.713564057, V9=-0.749063228, V11=1.240029232, V14=0.415346975, V16=-0.812343792\n",
      "txnID: 1613, Event time=2021-04-07 00:47:35.691, Amount=129.13, IsRedemption? 0, IsFraud? 0, Location=21, Account No=20, V4=0.505761303, V9=0.11226585, V11=-0.698563273, V14=0.25272497, V16=0.458228522\n",
      "txnID: 1614, Event time=2021-04-07 00:47:35.691, Amount=179.96, IsRedemption? 0, IsFraud? 0, Location=17, Account No=40, V4=-0.481535205, V9=-0.600883131, V11=1.185527903, V14=-0.054124691, V16=0.657672686\n",
      "txnID: 1615, Event time=2021-04-07 00:49:15.691, Amount=16000.14, IsRedemption? 0, IsFraud? 0, Location=17, Account No=31, V4=-1.945696824, V9=0.129805262, V11=1.464232868, V14=0.900188802, V16=-0.473505952\n",
      "txnID: 1616, Event time=2021-04-07 00:49:15.691, Amount=628.63, IsRedemption? 0, IsFraud? 0, Location=5, Account No=65, V4=-0.668010197, V9=-0.396980072, V11=0.777668477, V14=0.429563329, V16=0.782580192\n",
      "txnID: 1617, Event time=2021-04-07 00:50:55.691, Amount=100.88, IsRedemption? 0, IsFraud? 0, Location=7, Account No=53, V4=-1.98900579, V9=0.221437592, V11=1.350550714, V14=1.137440871, V16=-0.36903363\n",
      "txnID: 1618, Event time=2021-04-07 00:54:15.691, Amount=100.75, IsRedemption? 0, IsFraud? 0, Location=19, Account No=15, V4=-2.073081523, V9=0.204788425, V11=1.232905388, V14=1.343120346, V16=-0.238002126\n",
      "txnID: 1619, Event time=2021-04-07 00:54:15.691, Amount=549.61, IsRedemption? 0, IsFraud? 0, Location=24, Account No=13, V4=-0.239795028, V9=-0.047839162, V11=-0.142098811, V14=-0.052556597, V16=0.385987972\n",
      "txnID: 1620, Event time=2021-04-07 00:54:15.691, Amount=4990.41, IsRedemption? 0, IsFraud? 0, Location=7, Account No=53, V4=-0.594762825, V9=-0.862776253, V11=-0.163709452, V14=-1.572857048, V16=1.714031145\n",
      "txnID: 1621, Event time=2021-04-07 00:55:55.691, Amount=429.34, IsRedemption? 0, IsFraud? 0, Location=5, Account No=65, V4=2.746392237, V9=-0.328699636, V11=-0.453768495, V14=-0.290696011, V16=0.24035996\n",
      "txnID: 1622, Event time=2021-04-07 00:55:55.691, Amount=228.18, IsRedemption? 0, IsFraud? 0, Location=12, Account No=44, V4=0.115804564, V9=-0.207685777, V11=0.414719255, V14=-0.291308212, V16=0.857265009\n",
      "txnID: 1623, Event time=2021-04-07 00:59:15.691, Amount=89.69, IsRedemption? 0, IsFraud? 0, Location=2, Account No=140, V4=0.682919995, V9=-0.121385478, V11=0.107462423, V14=-0.49007053, V16=0.430655053\n",
      "txnID: 1624, Event time=2021-04-07 00:59:15.691, Amount=900.27, IsRedemption? 0, IsFraud? 0, Location=13, Account No=44, V4=-0.04042489, V9=-0.649808052, V11=-0.854193739, V14=0.622955559, V16=0.505615133\n",
      "txnID: 1625, Event time=2021-04-07 01:00:55.691, Amount=1774.55, IsRedemption? 0, IsFraud? 0, Location=24, Account No=4, V4=-0.493756929, V9=0.616179884, V11=-0.079356483, V14=-0.139350472, V16=0.333377726\n",
      "txnID: 1626, Event time=2021-04-07 01:00:55.691, Amount=100.55, IsRedemption? 0, IsFraud? 0, Location=24, Account No=4, V4=0.395402421, V9=0.278241499, V11=0.215819207, V14=0.079968315, V16=-0.039752828\n",
      "txnID: 1627, Event time=2021-04-07 01:00:55.691, Amount=198.43, IsRedemption? 0, IsFraud? 0, Location=9, Account No=50, V4=0.626949691, V9=0.129459543, V11=-0.309851855, V14=0.350536703, V16=0.328617955\n",
      "txnID: 1628, Event time=2021-04-07 01:02:35.691, Amount=3415.44, IsRedemption? 0, IsFraud? 0, Location=19, Account No=6, V4=1.125954222, V9=-0.66617798, V11=-0.136264248, V14=0.594379766, V16=-0.322516248\n",
      "txnID: 1629, Event time=2021-04-07 01:02:35.691, Amount=16000.05, IsRedemption? 1, IsFraud? 0, Location=3, Account No=91, V4=-1.332285405, V9=1.087238261, V11=0.046304114, V14=0.67090733, V16=-0.991944808\n",
      "txnID: 1630, Event time=2021-04-07 01:02:35.691, Amount=10200.86, IsRedemption? 1, IsFraud? 0, Location=24, Account No=11, V4=-2.373185444, V9=-1.495631221, V11=-0.674589871, V14=-0.914770181, V16=-0.125066189\n",
      "txnID: 1631, Event time=2021-04-07 01:04:15.691, Amount=1799.85, IsRedemption? 0, IsFraud? 0, Location=11, Account No=47, V4=0.021749589, V9=-0.513174175, V11=-0.608871539, V14=0.532976031, V16=0.340281707\n",
      "txnID: 1632, Event time=2021-04-07 01:05:55.691, Amount=99.78, IsRedemption? 0, IsFraud? 0, Location=2, Account No=140, V4=-0.587937914, V9=-0.340269907, V11=-0.248171351, V14=0.524398095, V16=0.666950373\n",
      "txnID: 1633, Event time=2021-04-07 01:07:35.691, Amount=771243.79, IsRedemption? 0, IsFraud? 0, Location=21, Account No=35, V4=6.013346294, V9=-1.925731551, V11=3.702176629, V14=-1.652835656, V16=4.087801791\n",
      "txnID: 1634, Event time=2021-04-07 01:07:35.691, Amount=8579.58, IsRedemption? 0, IsFraud? 0, Location=18, Account No=11, V4=1.181478589, V9=-0.771288976, V11=-0.734612888, V14=0.046130586, V16=1.053956921\n",
      "txnID: 1635, Event time=2021-04-07 01:09:15.691, Amount=2152.4, IsRedemption? 0, IsFraud? 0, Location=13, Account No=44, V4=1.334227847, V9=-0.036259703, V11=1.404036415, V14=0.2092926, V16=-0.601188306\n",
      "txnID: 1636, Event time=2021-04-07 01:09:15.691, Amount=16000.54, IsRedemption? 0, IsFraud? 0, Location=11, Account No=47, V4=-1.874835543, V9=0.48034592, V11=-0.068959205, V14=1.010182205, V16=-0.726782125\n",
      "txnID: 1637, Event time=2021-04-07 01:10:55.691, Amount=7366.47, IsRedemption? 0, IsFraud? 0, Location=5, Account No=65, V4=1.430339497, V9=-1.3119865, V11=-0.360454146, V14=0.601505651, V16=-0.732551821\n",
      "txnID: 1638, Event time=2021-04-07 01:10:55.691, Amount=200.82, IsRedemption? 0, IsFraud? 0, Location=17, Account No=13, V4=-0.088771835, V9=0.585498638, V11=0.241521346, V14=-0.404768974, V16=0.20584618\n",
      "txnID: 1639, Event time=2021-04-07 01:10:55.691, Amount=16000.7, IsRedemption? 0, IsFraud? 0, Location=9, Account No=50, V4=-2.02618284, V9=0.262922512, V11=-0.400322342, V14=1.222890429, V16=-0.623546517\n",
      "txnID: 1640, Event time=2021-04-07 01:10:55.691, Amount=1493.03, IsRedemption? 0, IsFraud? 0, Location=7, Account No=53, V4=-0.929506223, V9=-0.040116477, V11=-0.848150648, V14=0.426107264, V16=0.136777547\n",
      "*** Published 50 messages to Kafka topic. ***\n"
     ]
    },
    {
     "ename": "",
     "evalue": "",
     "output_type": "error",
     "traceback": [
      "\u001b[31mscala.util.control.BreakControl\u001b[39m\n"
     ]
    }
   ],
   "source": [
    "var counter:Int = 0\n",
    "val maxCount = 50\n",
    "\n",
    "val sleep_start = 100\n",
    "val sleep_end   = 400\n",
    "val rnd = new scala.util.Random\n",
    "\n",
    "try {\n",
    "    \n",
    "    println(\"Waiting for 3 seconds...\")\n",
    "    Thread.sleep(3000)\n",
    "    \n",
    "    for (line <- lineIterator) {\n",
    "\n",
    "        // Split each line in the CSV file to create the message to be sent:\n",
    "        val fields: Array[String] = line.split(',')\n",
    "        \n",
    "        // extract each field after converting these into the correct datatypes\n",
    "        val new_time = new Timestamp(start_time_ms + fields(0).toLong * 100000)\n",
    "        val txn_amount = fields(29).toDouble\n",
    "        val is_fraud = fields(30).stripPrefix(\"\\\"\").stripSuffix(\"\\\"\").trim.toInt\n",
    "        val v4 = fields(4).toDouble\n",
    "        val v9 = fields(9).toDouble\n",
    "        val v11 = fields(11).toDouble\n",
    "        val v14 = fields(14).toDouble\n",
    "        val v16 = fields(16).toDouble\n",
    "        val txn_id = fields(31).toLong\n",
    "        val location_id = fields(32).toLong\n",
    "        val acc_no = fields(33).toLong\n",
    "        val is_redemption = fields(34).stripPrefix(\"\\\"\").stripSuffix(\"\\\"\").trim.toInt\n",
    "\n",
    "        // encapsulate the fields into a transaction record\n",
    "        val txnRec = TransactionRecord(\n",
    "            new_time,\n",
    "            txn_id,\n",
    "            txn_amount,\n",
    "            is_fraud,\n",
    "            v4,\n",
    "            v9,\n",
    "            v11,\n",
    "            v14,\n",
    "            v16,\n",
    "            location_id,\n",
    "            acc_no,\n",
    "            is_redemption\n",
    "            )\n",
    "        println(txnRec)\n",
    "        \n",
    "        val valueBytes = serializeTransactionRecord(txnRec)\n",
    "        val serializedRecord = new ProducerRecord[Long, Array[Byte]](\n",
    "          topic,\n",
    "          txn_id,\n",
    "          valueBytes\n",
    "        )\n",
    "\n",
    "        producer.send(serializedRecord)\n",
    "\n",
    "        counter = counter + 1\n",
    "        \n",
    "        Thread.sleep(sleep_start + rnd.nextInt( (sleep_end - sleep_start) + 1 ))\n",
    "\n",
    "        if(counter==maxCount){\n",
    "            println(s\"*** Published $counter messages to Kafka topic. ***\")\n",
    "            break\n",
    "        }\n",
    "    }\n",
    "\n",
    "} catch {\n",
    "    case e: Exception => {\n",
    "        logger.error(s\"Error caught when sending messages: $e.\")\n",
    "        e.printStackTrace()\n",
    "    }\n",
    "}"
   ]
  },
  {
   "cell_type": "code",
   "execution_count": 22,
   "id": "4bc0b9ea-1313-4f3f-8d6e-5043b842f0a1",
   "metadata": {
    "tags": []
   },
   "outputs": [],
   "source": [
    "producer.close()"
   ]
  },
  {
   "cell_type": "code",
   "execution_count": 23,
   "id": "9565aa72-fb19-4f69-b0ec-d8fb1f008530",
   "metadata": {},
   "outputs": [],
   "source": [
    "bufferedSource.close()"
   ]
  },
  {
   "cell_type": "code",
   "execution_count": null,
   "id": "a2c86917-2aa0-4be5-832c-7f412b4c9e8b",
   "metadata": {},
   "outputs": [],
   "source": []
  }
 ],
 "metadata": {
  "kernelspec": {
   "display_name": "Scala",
   "language": "scala",
   "name": "scala"
  },
  "language_info": {
   "codemirror_mode": "text/x-scala",
   "file_extension": ".sc",
   "mimetype": "text/x-scala",
   "name": "scala",
   "nbconvert_exporter": "script",
   "version": "2.13.10"
  }
 },
 "nbformat": 4,
 "nbformat_minor": 5
}
